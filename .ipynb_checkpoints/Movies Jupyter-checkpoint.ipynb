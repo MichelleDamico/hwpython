{
 "cells": [
  {
   "cell_type": "code",
   "execution_count": 1,
   "metadata": {},
   "outputs": [
    {
     "name": "stdout",
     "output_type": "stream",
     "text": [
      "\n",
      "Michelle likes these movies: {'West Side Story', 'What About Bob', 'Heathers', 'White Nights', 'Labyrinth', 'Mermaids', 'Gone with the Wind', 'Big Lebowski'}\n",
      "\n",
      "Crissy likes these movies: {'Drop Dead Gorgeous', 'Heathers', 'The Godfather', 'Harry Potter', 'Mermaids', 'Beaches', 'Ladybird'}\n",
      "\n",
      "Michelle and Crissy both like:\n",
      "['Mermaids', 'Heathers']\n",
      "\n",
      "Michelle likes these movies even though Crissy does not:\n",
      "['Mermaids', 'Heathers']\n"
     ]
    }
   ],
   "source": [
    "michelle = {'Big Lebowski', 'Labyrinth', 'Gone with the Wind', 'What About Bob', 'Mermaids', 'Heathers', 'West Side Story', 'White Nights'}\n",
    "crissy = {'Heathers', 'Mermaids', 'Drop Dead Gorgeous', 'The Godfather', 'Beaches', 'Harry Potter', 'Ladybird'}\n",
    "def intersection(michelle, crissy):\n",
    "    return list(set(michelle) & set(crissy))\n",
    "\n",
    "def difference(michelle, crissy):\n",
    "    return list(set(michelle) & set(crissy))\n",
    "\n",
    "print ('\\nMichelle likes these movies: {}'.format(michelle))\n",
    "print ('\\nCrissy likes these movies: {}'.format(crissy))\n",
    "print ('\\nMichelle and Crissy both like:')\n",
    "print(intersection(michelle, crissy))\n",
    "print ('\\nMichelle likes these movies even though Crissy does not:')\n",
    "print (difference(michelle, crissy))\n"
   ]
  },
  {
   "cell_type": "code",
   "execution_count": null,
   "metadata": {},
   "outputs": [],
   "source": []
  }
 ],
 "metadata": {
  "kernelspec": {
   "display_name": "Python 3",
   "language": "python",
   "name": "python3"
  },
  "language_info": {
   "codemirror_mode": {
    "name": "ipython",
    "version": 3
   },
   "file_extension": ".py",
   "mimetype": "text/x-python",
   "name": "python",
   "nbconvert_exporter": "python",
   "pygments_lexer": "ipython3",
   "version": "3.6.3"
  }
 },
 "nbformat": 4,
 "nbformat_minor": 2
}
