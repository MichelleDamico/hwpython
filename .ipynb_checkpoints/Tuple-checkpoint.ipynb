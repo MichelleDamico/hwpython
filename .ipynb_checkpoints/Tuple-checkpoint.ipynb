{
 "cells": [
  {
   "cell_type": "code",
   "execution_count": 1,
   "metadata": {},
   "outputs": [
    {
     "name": "stdout",
     "output_type": "stream",
     "text": [
      "\n",
      "First I wake up at 6:45am...\n",
      "\n",
      "Then I drink coffee...\n",
      "\n",
      "Then I hopefully go to gym...\n",
      "\n",
      "Then I drink more coffee...\n",
      "\n",
      "Then I should be at work by 10am...\n",
      "\n",
      "Then I drink more coffee...\n",
      "\n",
      "Then I meetings and work...\n",
      "\n",
      "Then I hopefully walk outside and enjoy the sun...\n",
      "\n",
      "Then I more meetings and work...\n",
      "\n",
      "Then I go home and eat dinner...\n",
      "\n",
      "Then I watch tv or read...\n",
      "\n",
      "Finally I am asleep by 11:30pm. Phew!\n",
      "\n"
     ]
    }
   ],
   "source": [
    "myDayTasks = ('wake up at 6:45am', 'drink coffee', 'hopefully go to gym', 'drink more coffee', 'should be at work by 10am', 'drink more coffee', 'meetings and work', 'hopefully walk outside and enjoy the sun', 'more meetings and work', 'go home and eat dinner', 'watch tv or read', 'asleep by 11:30pm')\n",
    "\n",
    "print ('\\nFirst I {}...'.format(myDayTasks[0]))\n",
    "for myDay in myDayTasks[1:11]:\n",
    "    print ('\\nThen I {}...'.format(myDay))\n",
    "print ('\\nFinally I am {}. Phew!\\n'.format(myDayTasks[11]))\n"
   ]
  },
  {
   "cell_type": "code",
   "execution_count": null,
   "metadata": {},
   "outputs": [],
   "source": []
  }
 ],
 "metadata": {
  "kernelspec": {
   "display_name": "Python 3",
   "language": "python",
   "name": "python3"
  },
  "language_info": {
   "codemirror_mode": {
    "name": "ipython",
    "version": 3
   },
   "file_extension": ".py",
   "mimetype": "text/x-python",
   "name": "python",
   "nbconvert_exporter": "python",
   "pygments_lexer": "ipython3",
   "version": "3.6.3"
  }
 },
 "nbformat": 4,
 "nbformat_minor": 2
}
